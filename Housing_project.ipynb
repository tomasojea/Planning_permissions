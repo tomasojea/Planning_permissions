{
 "cells": [
  {
   "cell_type": "code",
   "execution_count": 63,
   "metadata": {},
   "outputs": [],
   "source": [
    "import pandas as pd\n",
    "stock_houses = pd.read_csv(\"../../Downloads/stock_house1.csv\") \n",
    "planning_permissions = pd.read_csv(\"../../Downloads/planning_permissions.csv\") \n",
    "dwelling_completions = pd.read_csv(\"../../Downloads/Dwellings_completions.csv\")\n",
    "dwelling_total =  pd.read_csv(\"../../Downloads/Dwellings_comp_total.csv\")\n",
    "stock_houses = stock_houses.astype(int)\n",
    "\n",
    "planning_permissions.reset_index(drop=True, inplace=True)\n",
    "planning_permissions = planning_permissions.dropna(how = 'all') \n",
    "planning_permissions[\"Period\"]= planning_permissions[\"Period\"].fillna(\" \")\n",
    "#data2 = data2.drop(columns=\"Unnamed: 10\")\n",
    "planning_permissions.rename(\n",
    "    columns={\n",
    "        \"Annual %\\nchange.1\": \"Anual change % (Q1)\",\n",
    "        \"Annual %\\nchange.2\": \"Anual change % (Q2)\",\n",
    "        \"Annual %\\nchange.3\": \"Anual change % (Q3)\",\n",
    "        \"Annual %\\nchange.4\": \"Anual change % (Q4)\",\n",
    "        \"Unnamed: 1\": \"Quarters\",\n",
    "        \n",
    "    },\n",
    "    inplace=True\n",
    ")\n",
    "\n"
   ]
  },
  {
   "cell_type": "code",
   "execution_count": 64,
   "metadata": {
    "scrolled": false
   },
   "outputs": [],
   "source": [
    "#remove header from columns\n",
    "dwelling_completions.columns = dwelling_completions.iloc[0]"
   ]
  },
  {
   "cell_type": "code",
   "execution_count": 65,
   "metadata": {},
   "outputs": [],
   "source": [
    " dwelling_completions = dwelling_completions.drop(0)"
   ]
  },
  {
   "cell_type": "code",
   "execution_count": 66,
   "metadata": {},
   "outputs": [],
   "source": [
    "planning_permissions = planning_permissions.drop([planning_permissions.columns[10]], axis='columns')\n"
   ]
  },
  {
   "cell_type": "code",
   "execution_count": null,
   "metadata": {},
   "outputs": [],
   "source": []
  },
  {
   "cell_type": "code",
   "execution_count": 69,
   "metadata": {},
   "outputs": [
    {
     "data": {
      "text/html": [
       "<div>\n",
       "<style scoped>\n",
       "    .dataframe tbody tr th:only-of-type {\n",
       "        vertical-align: middle;\n",
       "    }\n",
       "\n",
       "    .dataframe tbody tr th {\n",
       "        vertical-align: top;\n",
       "    }\n",
       "\n",
       "    .dataframe thead th {\n",
       "        text-align: right;\n",
       "    }\n",
       "</style>\n",
       "<table border=\"1\" class=\"dataframe\">\n",
       "  <thead>\n",
       "    <tr style=\"text-align: right;\">\n",
       "      <th></th>\n",
       "      <th></th>\n",
       "      <th>2017Q1</th>\n",
       "      <th>2017Q2</th>\n",
       "      <th>2017Q3</th>\n",
       "      <th>2017Q4</th>\n",
       "      <th>2018Q1</th>\n",
       "      <th>2018Q2</th>\n",
       "      <th>2018Q3</th>\n",
       "      <th>2018Q4</th>\n",
       "      <th>2019Q1</th>\n",
       "      <th>2019Q2</th>\n",
       "      <th>2019Q3</th>\n",
       "      <th>2019Q4</th>\n",
       "    </tr>\n",
       "  </thead>\n",
       "  <tbody>\n",
       "    <tr>\n",
       "      <th>1</th>\n",
       "      <td>All Local Authorities</td>\n",
       "      <td>2767</td>\n",
       "      <td>3266</td>\n",
       "      <td>3773</td>\n",
       "      <td>4558</td>\n",
       "      <td>3469</td>\n",
       "      <td>4400</td>\n",
       "      <td>4638</td>\n",
       "      <td>5445</td>\n",
       "      <td>4256</td>\n",
       "      <td>4837</td>\n",
       "      <td>5698</td>\n",
       "      <td>6450</td>\n",
       "    </tr>\n",
       "  </tbody>\n",
       "</table>\n",
       "</div>"
      ],
      "text/plain": [
       "0                        2017Q1 2017Q2 2017Q3 2017Q4 2018Q1 2018Q2 2018Q3  \\\n",
       "1  All Local Authorities   2767   3266   3773   4558   3469   4400   4638   \n",
       "\n",
       "0 2018Q4 2019Q1 2019Q2 2019Q3 2019Q4  \n",
       "1   5445   4256   4837   5698   6450  "
      ]
     },
     "execution_count": 69,
     "metadata": {},
     "output_type": "execute_result"
    }
   ],
   "source": [
    "dwelling_total.columns = dwelling_total.iloc[0]\n",
    "dwelling_total = dwelling_total.drop(0)\n",
    "dwelling_total"
   ]
  },
  {
   "cell_type": "code",
   "execution_count": 70,
   "metadata": {},
   "outputs": [],
   "source": [
    "dwelling_total = dwelling_total.drop(columns='2019Q4')"
   ]
  },
  {
   "cell_type": "code",
   "execution_count": 73,
   "metadata": {},
   "outputs": [
    {
     "data": {
      "text/html": [
       "<div>\n",
       "<style scoped>\n",
       "    .dataframe tbody tr th:only-of-type {\n",
       "        vertical-align: middle;\n",
       "    }\n",
       "\n",
       "    .dataframe tbody tr th {\n",
       "        vertical-align: top;\n",
       "    }\n",
       "\n",
       "    .dataframe thead th {\n",
       "        text-align: right;\n",
       "    }\n",
       "</style>\n",
       "<table border=\"1\" class=\"dataframe\">\n",
       "  <thead>\n",
       "    <tr style=\"text-align: right;\">\n",
       "      <th></th>\n",
       "      <th></th>\n",
       "      <th>2017Q1</th>\n",
       "      <th>2017Q2</th>\n",
       "      <th>2017Q3</th>\n",
       "      <th>2017Q4</th>\n",
       "      <th>2018Q1</th>\n",
       "      <th>2018Q2</th>\n",
       "      <th>2018Q3</th>\n",
       "      <th>2018Q4</th>\n",
       "      <th>2019Q1</th>\n",
       "      <th>2019Q2</th>\n",
       "      <th>2019Q3</th>\n",
       "    </tr>\n",
       "  </thead>\n",
       "  <tbody>\n",
       "    <tr>\n",
       "      <th>1</th>\n",
       "      <td>All Local Authorities</td>\n",
       "      <td>2767</td>\n",
       "      <td>3266</td>\n",
       "      <td>3773</td>\n",
       "      <td>4558</td>\n",
       "      <td>3469</td>\n",
       "      <td>4400</td>\n",
       "      <td>4638</td>\n",
       "      <td>5445</td>\n",
       "      <td>4256</td>\n",
       "      <td>4837</td>\n",
       "      <td>5698</td>\n",
       "    </tr>\n",
       "  </tbody>\n",
       "</table>\n",
       "</div>"
      ],
      "text/plain": [
       "0                        2017Q1 2017Q2 2017Q3 2017Q4 2018Q1 2018Q2 2018Q3  \\\n",
       "1  All Local Authorities   2767   3266   3773   4558   3469   4400   4638   \n",
       "\n",
       "0 2018Q4 2019Q1 2019Q2 2019Q3  \n",
       "1   5445   4256   4837   5698  "
      ]
     },
     "execution_count": 73,
     "metadata": {},
     "output_type": "execute_result"
    }
   ],
   "source": [
    "dwelling_total"
   ]
  },
  {
   "cell_type": "code",
   "execution_count": 74,
   "metadata": {},
   "outputs": [],
   "source": [
    "# Merging \"dwelling_completions\" and \"dwelling_total\"\n",
    "frames = [dwelling_completions, dwelling_total]\n",
    "result = pd.concat(frames)\n"
   ]
  },
  {
   "cell_type": "code",
   "execution_count": 75,
   "metadata": {},
   "outputs": [
    {
     "data": {
      "text/html": [
       "<div>\n",
       "<style scoped>\n",
       "    .dataframe tbody tr th:only-of-type {\n",
       "        vertical-align: middle;\n",
       "    }\n",
       "\n",
       "    .dataframe tbody tr th {\n",
       "        vertical-align: top;\n",
       "    }\n",
       "\n",
       "    .dataframe thead th {\n",
       "        text-align: right;\n",
       "    }\n",
       "</style>\n",
       "<table border=\"1\" class=\"dataframe\">\n",
       "  <thead>\n",
       "    <tr style=\"text-align: right;\">\n",
       "      <th></th>\n",
       "      <th></th>\n",
       "      <th>2017Q1</th>\n",
       "      <th>2017Q2</th>\n",
       "      <th>2017Q3</th>\n",
       "      <th>2017Q4</th>\n",
       "      <th>2018Q1</th>\n",
       "      <th>2018Q2</th>\n",
       "      <th>2018Q3</th>\n",
       "      <th>2018Q4</th>\n",
       "      <th>2019Q1</th>\n",
       "      <th>2019Q2</th>\n",
       "      <th>2019Q3</th>\n",
       "    </tr>\n",
       "  </thead>\n",
       "  <tbody>\n",
       "    <tr>\n",
       "      <th>1</th>\n",
       "      <td>Single house</td>\n",
       "      <td>871</td>\n",
       "      <td>1031</td>\n",
       "      <td>1126</td>\n",
       "      <td>1224</td>\n",
       "      <td>970</td>\n",
       "      <td>1151</td>\n",
       "      <td>1208</td>\n",
       "      <td>1355</td>\n",
       "      <td>1088</td>\n",
       "      <td>1320</td>\n",
       "      <td>1271</td>\n",
       "    </tr>\n",
       "    <tr>\n",
       "      <th>2</th>\n",
       "      <td>Scheme house</td>\n",
       "      <td>1419</td>\n",
       "      <td>1780</td>\n",
       "      <td>2003</td>\n",
       "      <td>2690</td>\n",
       "      <td>2023</td>\n",
       "      <td>2763</td>\n",
       "      <td>2835</td>\n",
       "      <td>3364</td>\n",
       "      <td>2571</td>\n",
       "      <td>2825</td>\n",
       "      <td>3322</td>\n",
       "    </tr>\n",
       "    <tr>\n",
       "      <th>3</th>\n",
       "      <td>Apartment</td>\n",
       "      <td>477</td>\n",
       "      <td>455</td>\n",
       "      <td>644</td>\n",
       "      <td>644</td>\n",
       "      <td>476</td>\n",
       "      <td>486</td>\n",
       "      <td>595</td>\n",
       "      <td>726</td>\n",
       "      <td>597</td>\n",
       "      <td>692</td>\n",
       "      <td>1105</td>\n",
       "    </tr>\n",
       "    <tr>\n",
       "      <th>1</th>\n",
       "      <td>All Local Authorities</td>\n",
       "      <td>2767</td>\n",
       "      <td>3266</td>\n",
       "      <td>3773</td>\n",
       "      <td>4558</td>\n",
       "      <td>3469</td>\n",
       "      <td>4400</td>\n",
       "      <td>4638</td>\n",
       "      <td>5445</td>\n",
       "      <td>4256</td>\n",
       "      <td>4837</td>\n",
       "      <td>5698</td>\n",
       "    </tr>\n",
       "  </tbody>\n",
       "</table>\n",
       "</div>"
      ],
      "text/plain": [
       "0                        2017Q1 2017Q2 2017Q3 2017Q4 2018Q1 2018Q2 2018Q3  \\\n",
       "1           Single house    871   1031   1126   1224    970   1151   1208   \n",
       "2           Scheme house   1419   1780   2003   2690   2023   2763   2835   \n",
       "3              Apartment    477    455    644    644    476    486    595   \n",
       "1  All Local Authorities   2767   3266   3773   4558   3469   4400   4638   \n",
       "\n",
       "0 2018Q4 2019Q1 2019Q2 2019Q3  \n",
       "1   1355   1088   1320   1271  \n",
       "2   3364   2571   2825   3322  \n",
       "3    726    597    692   1105  \n",
       "1   5445   4256   4837   5698  "
      ]
     },
     "execution_count": 75,
     "metadata": {},
     "output_type": "execute_result"
    }
   ],
   "source": [
    "result"
   ]
  },
  {
   "cell_type": "code",
   "execution_count": null,
   "metadata": {},
   "outputs": [],
   "source": []
  },
  {
   "cell_type": "code",
   "execution_count": null,
   "metadata": {},
   "outputs": [],
   "source": []
  }
 ],
 "metadata": {
  "kernelspec": {
   "display_name": "Python 3",
   "language": "python",
   "name": "python3"
  },
  "language_info": {
   "codemirror_mode": {
    "name": "ipython",
    "version": 3
   },
   "file_extension": ".py",
   "mimetype": "text/x-python",
   "name": "python",
   "nbconvert_exporter": "python",
   "pygments_lexer": "ipython3",
   "version": "3.7.6"
  }
 },
 "nbformat": 4,
 "nbformat_minor": 2
}
